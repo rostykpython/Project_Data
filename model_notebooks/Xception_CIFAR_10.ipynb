{
  "cells": [
    {
      "cell_type": "code",
      "execution_count": 1,
      "metadata": {
        "id": "I6vrNJ0FYctK"
      },
      "outputs": [],
      "source": [
        "import matplotlib.pyplot as plt\n",
        "import seaborn as sns\n",
        "%matplotlib inline\n",
        "import numpy as np \n",
        "import pandas as pd "
      ]
    },
    {
      "cell_type": "code",
      "execution_count": 2,
      "metadata": {
        "id": "1a3SHx16Yjli"
      },
      "outputs": [],
      "source": [
        "import tensorflow as tf\n",
        "from keras import Sequential\n",
        "from tensorflow.keras.utils import to_categorical\n",
        "from tensorflow.keras.optimizers import SGD,Adam\n",
        "from keras.callbacks import ReduceLROnPlateau\n",
        "from tensorflow.keras.applications import Xception\n",
        "from tensorflow.keras.layers import Input,Flatten,Dense,BatchNormalization,Activation,Dropout,GlobalAveragePooling2D,MaxPooling2D,RandomFlip,RandomZoom,RandomRotation"
      ]
    },
    {
      "cell_type": "code",
      "execution_count": 3,
      "metadata": {
        "id": "6kFVwHsUYmQD"
      },
      "outputs": [],
      "source": [
        "from keras.datasets import cifar10"
      ]
    },
    {
      "cell_type": "code",
      "execution_count": 4,
      "metadata": {
        "colab": {
          "base_uri": "https://localhost:8080/"
        },
        "id": "YV7EqK9PDfh_",
        "outputId": "ff961590-ea1f-434d-c347-09d675cb93ed"
      },
      "outputs": [
        {
          "output_type": "stream",
          "name": "stdout",
          "text": [
            "Mounted at /content/drive\n"
          ]
        }
      ],
      "source": [
        "from google.colab import drive\n",
        "drive.mount('/content/drive')"
      ]
    },
    {
      "cell_type": "code",
      "execution_count": 5,
      "metadata": {
        "colab": {
          "base_uri": "https://localhost:8080/"
        },
        "id": "d6TAKwIFYpQq",
        "outputId": "3e105c69-bada-4ad7-effd-c01ff45d5fd7"
      },
      "outputs": [
        {
          "output_type": "stream",
          "name": "stdout",
          "text": [
            "Downloading data from https://www.cs.toronto.edu/~kriz/cifar-10-python.tar.gz\n",
            "170500096/170498071 [==============================] - 2s 0us/step\n",
            "170508288/170498071 [==============================] - 2s 0us/step\n",
            "((50000, 32, 32, 3), (50000, 10))\n",
            "((10000, 32, 32, 3), (10000, 10))\n"
          ]
        }
      ],
      "source": [
        "(x_train, y_train), (x_val, y_val) = cifar10.load_data()\n",
        "\n",
        "y_train=to_categorical(y_train)\n",
        "y_val=to_categorical(y_val)\n",
        "\n",
        "print((x_train.shape, y_train.shape))\n",
        "print((x_val.shape, y_val.shape))"
      ]
    },
    {
      "cell_type": "code",
      "execution_count": 6,
      "metadata": {
        "colab": {
          "base_uri": "https://localhost:8080/",
          "height": 266
        },
        "id": "R6xTSmIH1u7A",
        "outputId": "1b499921-8ddc-4d18-f754-0b76769ca9f6"
      },
      "outputs": [
        {
          "output_type": "display_data",
          "data": {
            "text/plain": [
              "<Figure size 432x288 with 1 Axes>"
            ],
            "image/png": "[encoded data removed]"
          },
          "metadata": {
            "needs_background": "light"
          }
        }
      ],
      "source": [
        "img = plt.imshow(x_train[1])"
      ]
    },
    {
      "cell_type": "code",
      "execution_count": 7,
      "metadata": {
        "colab": {
          "base_uri": "https://localhost:8080/"
        },
        "id": "7pQWsTTkYrW7",
        "outputId": "7108adb3-cd14-4571-c759-ed3590955ddb"
      },
      "outputs": [
        {
          "output_type": "stream",
          "name": "stdout",
          "text": [
            "Downloading data from https://storage.googleapis.com/tensorflow/keras-applications/xception/xception_weights_tf_dim_ordering_tf_kernels_notop.h5\n",
            "83689472/83683744 [==============================] - 0s 0us/step\n",
            "83697664/83683744 [==============================] - 0s 0us/step\n"
          ]
        }
      ],
      "source": [
        "base_model = Xception(include_top=False, weights='imagenet', input_shape=(224,224,3), classes=y_train.shape[1])"
      ]
    },
    {
      "cell_type": "code",
      "execution_count": 8,
      "metadata": {
        "id": "rj02XwFlYxeT"
      },
      "outputs": [],
      "source": [
        "data_augmentation = Sequential(\n",
        "    [RandomFlip(\"horizontal\"), \n",
        "     RandomRotation(0.1),\n",
        "     RandomZoom(0.1)]\n",
        ")"
      ]
    },
    {
      "cell_type": "code",
      "execution_count": 9,
      "metadata": {
        "id": "3EmGbc6jYzbj"
      },
      "outputs": [],
      "source": [
        "inputs = tf.keras.Input(shape=(32, 32, 3))\n",
        "x = tf.keras.layers.Lambda(lambda image: tf.image.resize(image, (224,224)))(inputs)\n",
        "x = data_augmentation(x)\n",
        "x = tf.keras.applications.xception.preprocess_input(x)\n",
        "x = base_model(x, training=False)\n",
        "x = tf.keras.layers.GlobalAveragePooling2D()(x)\n",
        "x = tf.keras.layers.Dropout(0.3)(x)\n",
        "outputs = tf.keras.layers.Dense(10, activation=('softmax'))(x)\n",
        "model = tf.keras.Model(inputs, outputs)"
      ]
    },
    {
      "cell_type": "code",
      "execution_count": 10,
      "metadata": {
        "colab": {
          "base_uri": "https://localhost:8080/"
        },
        "id": "WdQxN4ZfY1nZ",
        "outputId": "e6767b72-a94d-4183-dfdc-d684f5745b48"
      },
      "outputs": [
        {
          "output_type": "stream",
          "name": "stdout",
          "text": [
            "Model: \"model\"\n",
            "_________________________________________________________________\n",
            " Layer (type)                Output Shape              Param #   \n",
            "=================================================================\n",
            " input_2 (InputLayer)        [(None, 32, 32, 3)]       0         \n",
            "                                                                 \n",
            " lambda (Lambda)             (None, 224, 224, 3)       0         \n",
            "                                                                 \n",
            " sequential (Sequential)     (None, 224, 224, 3)       0         \n",
            "                                                                 \n",
            " tf.math.truediv (TFOpLambda  (None, 224, 224, 3)      0         \n",
            " )                                                               \n",
            "                                                                 \n",
            " tf.math.subtract (TFOpLambd  (None, 224, 224, 3)      0         \n",
            " a)                                                              \n",
            "                                                                 \n",
            " xception (Functional)       (None, 7, 7, 2048)        20861480  \n",
            "                                                                 \n",
            " global_average_pooling2d (G  (None, 2048)             0         \n",
            " lobalAveragePooling2D)                                          \n",
            "                                                                 \n",
            " dropout (Dropout)           (None, 2048)              0         \n",
            "                                                                 \n",
            " dense (Dense)               (None, 10)                20490     \n",
            "                                                                 \n",
            "=================================================================\n",
            "Total params: 20,881,970\n",
            "Trainable params: 20,827,442\n",
            "Non-trainable params: 54,528\n",
            "_________________________________________________________________\n"
          ]
        }
      ],
      "source": [
        "model.summary()"
      ]
    },
    {
      "cell_type": "code",
      "execution_count": 11,
      "metadata": {
        "id": "_xOlAIMDY825"
      },
      "outputs": [],
      "source": [
        "def plot_history(history):\n",
        "    history_frame = pd.DataFrame(history.history)\n",
        "    history_frame.loc[:, ['loss', 'val_loss']].plot()\n",
        "    history_frame.loc[:, ['accuracy', 'val_accuracy']].plot()\n",
        "    \n",
        "    return"
      ]
    },
    {
      "cell_type": "code",
      "execution_count": 12,
      "metadata": {
        "id": "pmDUX07nY_ty"
      },
      "outputs": [],
      "source": [
        "base_model.trainable = True"
      ]
    },
    {
      "cell_type": "code",
      "execution_count": 13,
      "metadata": {
        "id": "KC0eImQWZihI"
      },
      "outputs": [],
      "source": [
        "model.compile(optimizer=tf.keras.optimizers.Adam(1e-5), loss='categorical_crossentropy', metrics=['accuracy'])"
      ]
    },
    {
      "cell_type": "code",
      "execution_count": 14,
      "metadata": {
        "colab": {
          "base_uri": "https://localhost:8080/"
        },
        "id": "bvMTIniUZkVi",
        "outputId": "701d94cb-8d4f-4bdb-d665-d0d763ae14ba"
      },
      "outputs": [
        {
          "output_type": "stream",
          "name": "stdout",
          "text": [
            "Epoch 1/12\n",
            "1563/1563 [==============================] - 1059s 665ms/step - loss: 0.5141 - accuracy: 0.8260 - val_loss: 0.1958 - val_accuracy: 0.9369\n",
            "Epoch 2/12\n",
            "1563/1563 [==============================] - 1027s 657ms/step - loss: 0.2337 - accuracy: 0.9215 - val_loss: 0.1510 - val_accuracy: 0.9489\n",
            "Epoch 3/12\n",
            "1563/1563 [==============================] - 1027s 657ms/step - loss: 0.1829 - accuracy: 0.9384 - val_loss: 0.1318 - val_accuracy: 0.9567\n",
            "Epoch 4/12\n",
            "1563/1563 [==============================] - 1028s 658ms/step - loss: 0.1522 - accuracy: 0.9488 - val_loss: 0.1233 - val_accuracy: 0.9613\n",
            "Epoch 5/12\n",
            "1563/1563 [==============================] - 1029s 658ms/step - loss: 0.1323 - accuracy: 0.9549 - val_loss: 0.1203 - val_accuracy: 0.9617\n",
            "Epoch 6/12\n",
            "1563/1563 [==============================] - 1028s 658ms/step - loss: 0.1098 - accuracy: 0.9619 - val_loss: 0.1108 - val_accuracy: 0.9641\n",
            "Epoch 7/12\n",
            "1563/1563 [==============================] - 1030s 659ms/step - loss: 0.0964 - accuracy: 0.9672 - val_loss: 0.1147 - val_accuracy: 0.9656\n",
            "Epoch 8/12\n",
            "1563/1563 [==============================] - 1069s 684ms/step - loss: 0.0829 - accuracy: 0.9716 - val_loss: 0.1183 - val_accuracy: 0.9631\n",
            "Epoch 9/12\n",
            "1563/1563 [==============================] - 1029s 658ms/step - loss: 0.0758 - accuracy: 0.9743 - val_loss: 0.1100 - val_accuracy: 0.9663\n",
            "Epoch 10/12\n",
            "1563/1563 [==============================] - 1028s 658ms/step - loss: 0.0631 - accuracy: 0.9782 - val_loss: 0.1145 - val_accuracy: 0.9671\n",
            "Epoch 11/12\n",
            "1563/1563 [==============================] - 1029s 659ms/step - loss: 0.0562 - accuracy: 0.9806 - val_loss: 0.1096 - val_accuracy: 0.9673\n",
            "Epoch 12/12\n",
            "1563/1563 [==============================] - 1029s 658ms/step - loss: 0.0528 - accuracy: 0.9818 - val_loss: 0.1092 - val_accuracy: 0.9683\n"
          ]
        }
      ],
      "source": [
        "epochs = 12\n",
        "history = model.fit(x_train, y_train, validation_data=(x_val, y_val), epochs=epochs, verbose=1)"
      ]
    },
    {
      "cell_type": "code",
      "execution_count": 15,
      "metadata": {
        "id": "5FSST7fGZlxg",
        "colab": {
          "base_uri": "https://localhost:8080/",
          "height": 513
        },
        "outputId": "66a34e6d-b978-4d4b-cf9e-e2839a50f412"
      },
      "outputs": [
        {
          "output_type": "display_data",
          "data": {
            "text/plain": [
              "<Figure size 432x288 with 1 Axes>"
            ],
            "image/png": "[encoded data removed]"
          },
          "metadata": {
            "needs_background": "light"
          }
        },
        {
          "output_type": "display_data",
          "data": {
            "text/plain": [
              "<Figure size 432x288 with 1 Axes>"
            ],
            "image/png": "[encoded data removed]"
          },
          "metadata": {
            "needs_background": "light"
          }
        }
      ],
      "source": [
        "plot_history(history)"
      ]
    },
    {
      "cell_type": "code",
      "execution_count": 16,
      "metadata": {
        "id": "7wLm1my3Zna3",
        "colab": {
          "base_uri": "https://localhost:8080/",
          "height": 884
        },
        "outputId": "9524972b-3a5d-42c3-f6a9-f6befda51ec0"
      },
      "outputs": [
        {
          "output_type": "execute_result",
          "data": {
            "text/plain": [
              "[[Text(0, 0.5, 'airplane'),\n",
              "  Text(0, 1.5, 'automobile'),\n",
              "  Text(0, 2.5, 'bird'),\n",
              "  Text(0, 3.5, 'cat'),\n",
              "  Text(0, 4.5, 'deer'),\n",
              "  Text(0, 5.5, 'dog'),\n",
              "  Text(0, 6.5, 'frog'),\n",
              "  Text(0, 7.5, 'horse'),\n",
              "  Text(0, 8.5, 'ship'),\n",
              "  Text(0, 9.5, 'truck')],\n",
              " [Text(0.5, 0, 'airplane'),\n",
              "  Text(1.5, 0, 'automobile'),\n",
              "  Text(2.5, 0, 'bird'),\n",
              "  Text(3.5, 0, 'cat'),\n",
              "  Text(4.5, 0, 'deer'),\n",
              "  Text(5.5, 0, 'dog'),\n",
              "  Text(6.5, 0, 'frog'),\n",
              "  Text(7.5, 0, 'horse'),\n",
              "  Text(8.5, 0, 'ship'),\n",
              "  Text(9.5, 0, 'truck')]]"
            ]
          },
          "metadata": {},
          "execution_count": 16
        },
        {
          "output_type": "display_data",
          "data": {
            "text/plain": [
              "<Figure size 864x648 with 2 Axes>"
            ],
            "image/png": "[encoded data removed]"
          },
          "metadata": {
            "needs_background": "light"
          }
        }
      ],
      "source": [
        "class_names=['airplane', 'automobile', 'bird', 'cat', 'deer', 'dog', 'frog', 'horse', 'ship', 'truck']\n",
        "\n",
        "predictions=model.predict(x_val)\n",
        "\n",
        "y_pred_classes = np.argmax(predictions, axis=1)\n",
        "y_true = np.argmax(y_val, axis=1)\n",
        "\n",
        "confusion_mtx = tf.math.confusion_matrix(y_true, y_pred_classes)\n",
        "\n",
        "plt.figure(figsize=(12, 9))\n",
        "c = sns.heatmap(confusion_mtx, annot=True, fmt='g')\n",
        "c.set(xticklabels=class_names, yticklabels=class_names)"
      ]
    },
    {
      "cell_type": "code",
      "execution_count": 17,
      "metadata": {
        "id": "l4M-UTc8Y1E2",
        "colab": {
          "base_uri": "https://localhost:8080/"
        },
        "outputId": "718c635c-2b04-42c6-bbc6-6a827284d1ef"
      },
      "outputs": [
        {
          "output_type": "stream",
          "name": "stdout",
          "text": [
            "Test loss: 0.10917574167251587 / Test accuracy: 0.9682999849319458\n"
          ]
        }
      ],
      "source": [
        "score = model.evaluate(x_val, y_val, verbose=0) \n",
        "print(f'Test loss: {score[0]} / Test accuracy: {score[1]}')"
      ]
    },
    {
      "cell_type": "code",
      "execution_count": 18,
      "metadata": {
        "id": "sdEhilJ3VVoW",
        "colab": {
          "base_uri": "https://localhost:8080/"
        },
        "outputId": "29fea230-12e1-4ae7-8a38-125f2d7c2685"
      },
      "outputs": [
        {
          "output_type": "stream",
          "name": "stdout",
          "text": [
            "Test loss: 0.016088498756289482 / Test accuracy: 0.995140016078949\n"
          ]
        }
      ],
      "source": [
        "score = model.evaluate(x_train, y_train, verbose=0) \n",
        "print(f'Test loss: {score[0]} / Test accuracy: {score[1]}')"
      ]
    }
  ],
  "metadata": {
    "accelerator": "GPU",
    "colab": {
      "collapsed_sections": [],
      "name": "Xception CIFAR-10.ipynb",
      "provenance": []
    },
    "gpuClass": "standard",
    "kernelspec": {
      "display_name": "Python 3",
      "name": "python3"
    },
    "language_info": {
      "name": "python"
    }
  },
  "nbformat": 4,
  "nbformat_minor": 0
}