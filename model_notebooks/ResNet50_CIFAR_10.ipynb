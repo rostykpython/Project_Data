{
  "nbformat": 4,
  "nbformat_minor": 0,
  "metadata": {
    "colab": {
      "name": "ResNet50 CIFAR-10.ipynb",
      "provenance": [],
      "collapsed_sections": []
    },
    "kernelspec": {
      "name": "python3",
      "display_name": "Python 3"
    },
    "language_info": {
      "name": "python"
    },
    "accelerator": "GPU",
    "gpuClass": "standard"
  },
  "cells": [
    {
      "cell_type": "code",
      "execution_count": null,
      "metadata": {
        "id": "rISQm3xnqI0h"
      },
      "outputs": [],
      "source": [
        "import matplotlib.pyplot as plt\n",
        "import seaborn as sns\n",
        "%matplotlib inline\n",
        "\n",
        "import numpy as np \n",
        "import pandas as pd \n",
        "\n",
        "import warnings\n",
        "warnings.filterwarnings(\"ignore\")"
      ]
    },
    {
      "cell_type": "code",
      "source": [
        "import tensorflow as tf\n",
        "import keras\n",
        "from keras import Sequential\n",
        "\n",
        "from tensorflow.keras.utils import to_categorical\n",
        "from tensorflow.keras.optimizers import SGD,Adam\n",
        "from keras.callbacks import ReduceLROnPlateau\n",
        "from keras.applications.resnet import ResNet50\n",
        "from tensorflow.keras.layers import Input,Flatten,Dense,BatchNormalization,Activation,Dropout,GlobalAveragePooling2D,MaxPooling2D,RandomFlip,RandomZoom,RandomRotation"
      ],
      "metadata": {
        "id": "vpPIHCTGqNTl"
      },
      "execution_count": null,
      "outputs": []
    },
    {
      "cell_type": "code",
      "source": [
        "from keras.datasets import cifar10"
      ],
      "metadata": {
        "id": "y6losiQQqN6V"
      },
      "execution_count": null,
      "outputs": []
    },
    {
      "cell_type": "code",
      "source": [
        "from google.colab import drive\n",
        "drive.mount('/content/drive')"
      ],
      "metadata": {
        "id": "qUg-BrWgqRzL",
        "colab": {
          "base_uri": "https://localhost:8080/"
        },
        "outputId": "76abd90f-d4ef-4415-ba25-6c4eb15beb19"
      },
      "execution_count": null,
      "outputs": [
        {
          "output_type": "stream",
          "name": "stdout",
          "text": [
            "Drive already mounted at /content/drive; to attempt to forcibly remount, call drive.mount(\"/content/drive\", force_remount=True).\n"
          ]
        }
      ]
    },
    {
      "cell_type": "code",
      "source": [
        "(x_train, y_train), (x_val, y_val) = cifar10.load_data()\n",
        "\n",
        "y_train=to_categorical(y_train)\n",
        "y_val=to_categorical(y_val)\n",
        "\n",
        "print((x_train.shape, y_train.shape))\n",
        "print((x_val.shape, y_val.shape))"
      ],
      "metadata": {
        "id": "zInmCEyfqTn8",
        "colab": {
          "base_uri": "https://localhost:8080/"
        },
        "outputId": "f05a9486-d3ea-4784-ddbc-d12483e6ed4e"
      },
      "execution_count": null,
      "outputs": [
        {
          "output_type": "stream",
          "name": "stdout",
          "text": [
            "Downloading data from https://www.cs.toronto.edu/~kriz/cifar-10-python.tar.gz\n",
            "170500096/170498071 [==============================] - 13s 0us/step\n",
            "170508288/170498071 [==============================] - 13s 0us/step\n",
            "((50000, 32, 32, 3), (50000, 10))\n",
            "((10000, 32, 32, 3), (10000, 10))\n"
          ]
        }
      ]
    },
    {
      "cell_type": "code",
      "source": [
        "base_model = ResNet50(input_shape=(224, 224, 3),\n",
        "                                               include_top=False,\n",
        "                                               weights='imagenet')"
      ],
      "metadata": {
        "id": "ih5b5AqTqVmc",
        "colab": {
          "base_uri": "https://localhost:8080/"
        },
        "outputId": "320adbd5-6436-4cef-f989-6deb1af632e0"
      },
      "execution_count": null,
      "outputs": [
        {
          "output_type": "stream",
          "name": "stdout",
          "text": [
            "Downloading data from https://storage.googleapis.com/tensorflow/keras-applications/resnet/resnet50_weights_tf_dim_ordering_tf_kernels_notop.h5\n",
            "94773248/94765736 [==============================] - 1s 0us/step\n",
            "94781440/94765736 [==============================] - 1s 0us/step\n"
          ]
        }
      ]
    },
    {
      "cell_type": "code",
      "source": [
        "data_augmentation = Sequential(\n",
        "    [RandomFlip(\"horizontal\"), \n",
        "     RandomRotation(0.1),\n",
        "     RandomZoom(0.1)]\n",
        ")"
      ],
      "metadata": {
        "id": "8DKgmVEfqbn9"
      },
      "execution_count": null,
      "outputs": []
    },
    {
      "cell_type": "code",
      "source": [
        "inputs = tf.keras.Input(shape=(32, 32, 3))\n",
        "x = tf.keras.layers.UpSampling2D(size=(7,7))(inputs)\n",
        "x = base_model(x, training=False)\n",
        "x = tf.keras.layers.GlobalAveragePooling2D()(x)\n",
        "x = tf.keras.layers.Flatten()(x)\n",
        "x = tf.keras.layers.Dense(1024, activation=\"relu\")(x)\n",
        "x = BatchNormalization()(x)\n",
        "x = tf.keras.layers.Dense(512, activation=\"relu\")(x)\n",
        "x = BatchNormalization()(x)\n",
        "outputs = tf.keras.layers.Dense(10, activation=\"softmax\", name=\"classification\")(x)\n",
        "model = tf.keras.Model(inputs, outputs)"
      ],
      "metadata": {
        "id": "psL57MLEqcH9"
      },
      "execution_count": null,
      "outputs": []
    },
    {
      "cell_type": "code",
      "source": [
        "model.summary()"
      ],
      "metadata": {
        "id": "koDbiSc8mhR8",
        "colab": {
          "base_uri": "https://localhost:8080/"
        },
        "outputId": "e766943d-3125-457c-f3e7-aec385d049da"
      },
      "execution_count": null,
      "outputs": [
        {
          "output_type": "stream",
          "name": "stdout",
          "text": [
            "Model: \"model\"\n",
            "_________________________________________________________________\n",
            " Layer (type)                Output Shape              Param #   \n",
            "=================================================================\n",
            " input_2 (InputLayer)        [(None, 32, 32, 3)]       0         \n",
            "                                                                 \n",
            " up_sampling2d (UpSampling2D  (None, 224, 224, 3)      0         \n",
            " )                                                               \n",
            "                                                                 \n",
            " resnet50 (Functional)       (None, 7, 7, 2048)        23587712  \n",
            "                                                                 \n",
            " global_average_pooling2d (G  (None, 2048)             0         \n",
            " lobalAveragePooling2D)                                          \n",
            "                                                                 \n",
            " flatten (Flatten)           (None, 2048)              0         \n",
            "                                                                 \n",
            " dense (Dense)               (None, 1024)              2098176   \n",
            "                                                                 \n",
            " batch_normalization (BatchN  (None, 1024)             4096      \n",
            " ormalization)                                                   \n",
            "                                                                 \n",
            " dense_1 (Dense)             (None, 512)               524800    \n",
            "                                                                 \n",
            " batch_normalization_1 (Batc  (None, 512)              2048      \n",
            " hNormalization)                                                 \n",
            "                                                                 \n",
            " classification (Dense)      (None, 10)                5130      \n",
            "                                                                 \n",
            "=================================================================\n",
            "Total params: 26,221,962\n",
            "Trainable params: 26,165,770\n",
            "Non-trainable params: 56,192\n",
            "_________________________________________________________________\n"
          ]
        }
      ]
    },
    {
      "cell_type": "code",
      "source": [
        "model.compile(optimizer=tf.keras.optimizers.Adam(1e-5), loss='categorical_crossentropy', metrics=['accuracy'])"
      ],
      "metadata": {
        "id": "YGVbl9sYm-Ly"
      },
      "execution_count": null,
      "outputs": []
    },
    {
      "cell_type": "code",
      "source": [
        "epochs = 5\n",
        "history = model.fit(x_train, y_train, validation_data=(x_val, y_val), batch_size = 64, epochs=epochs)"
      ],
      "metadata": {
        "id": "piFrlShymlqm",
        "colab": {
          "base_uri": "https://localhost:8080/"
        },
        "outputId": "6e398760-504a-4b41-c978-275b7afca9a6"
      },
      "execution_count": null,
      "outputs": [
        {
          "output_type": "stream",
          "name": "stdout",
          "text": [
            "Epoch 1/5\n",
            "782/782 [==============================] - 543s 668ms/step - loss: 0.6919 - accuracy: 0.7692 - val_loss: 0.3299 - val_accuracy: 0.8863\n",
            "Epoch 2/5\n",
            "782/782 [==============================] - 522s 667ms/step - loss: 0.2305 - accuracy: 0.9243 - val_loss: 0.2532 - val_accuracy: 0.9134\n",
            "Epoch 3/5\n",
            "782/782 [==============================] - 522s 667ms/step - loss: 0.1229 - accuracy: 0.9596 - val_loss: 0.2226 - val_accuracy: 0.9255\n",
            "Epoch 4/5\n",
            "782/782 [==============================] - 521s 667ms/step - loss: 0.0630 - accuracy: 0.9808 - val_loss: 0.2336 - val_accuracy: 0.9250\n",
            "Epoch 5/5\n",
            "782/782 [==============================] - 522s 667ms/step - loss: 0.0291 - accuracy: 0.9933 - val_loss: 0.2280 - val_accuracy: 0.9337\n"
          ]
        }
      ]
    },
    {
      "cell_type": "code",
      "source": [
        "def plot_history(history):\n",
        "    history_frame = pd.DataFrame(history.history)\n",
        "    history_frame.loc[:, ['loss', 'val_loss']].plot()\n",
        "    history_frame.loc[:, ['accuracy', 'val_accuracy']].plot()\n",
        "    \n",
        "    return"
      ],
      "metadata": {
        "id": "xcrGdiR9nXFk"
      },
      "execution_count": null,
      "outputs": []
    },
    {
      "cell_type": "code",
      "source": [
        "plot_history(history)"
      ],
      "metadata": {
        "id": "wBf6YUcZnpe8",
        "colab": {
          "base_uri": "https://localhost:8080/",
          "height": 513
        },
        "outputId": "6c38c722-e28f-4136-d757-e28c2ff47ce9"
      },
      "execution_count": null,
      "outputs": [
        {
          "output_type": "display_data",
          "data": {
            "text/plain": [
              "<Figure size 432x288 with 1 Axes>"
            ],
            "image/png": "[encoded data removed]"
          },
          "metadata": {
            "needs_background": "light"
          }
        },
        {
          "output_type": "display_data",
          "data": {
            "text/plain": [
              "<Figure size 432x288 with 1 Axes>"
            ],
            "image/png": "[encoded data removed]"
          },
          "metadata": {
            "needs_background": "light"
          }
        }
      ]
    },
    {
      "cell_type": "code",
      "source": [
        "model.save(\"ResNet50_CIFAR-10.h5\")"
      ],
      "metadata": {
        "id": "fUa4NtRnv7DS"
      },
      "execution_count": null,
      "outputs": []
    },
    {
      "cell_type": "code",
      "source": [
        "class_names=['airplane', 'automobile', 'bird', 'cat', 'deer', 'dog', 'frog', 'horse', 'ship', 'truck']\n",
        "\n",
        "predictions=model.predict(x_val)\n",
        "\n",
        "y_pred_classes = np.argmax(predictions, axis=1)\n",
        "y_true = np.argmax(y_val, axis=1)\n",
        "\n",
        "confusion_mtx = tf.math.confusion_matrix(y_true, y_pred_classes)\n",
        "\n",
        "plt.figure(figsize=(12, 9))\n",
        "c = sns.heatmap(confusion_mtx, annot=True, fmt='g')\n",
        "c.set(xticklabels=class_names, yticklabels=class_names)"
      ],
      "metadata": {
        "id": "QSxY1n9QnlXg",
        "colab": {
          "base_uri": "https://localhost:8080/",
          "height": 884
        },
        "outputId": "3645eeab-52a8-45e7-87c6-b2c1d2134880"
      },
      "execution_count": null,
      "outputs": [
        {
          "output_type": "execute_result",
          "data": {
            "text/plain": [
              "[[Text(0, 0.5, 'airplane'),\n",
              "  Text(0, 1.5, 'automobile'),\n",
              "  Text(0, 2.5, 'bird'),\n",
              "  Text(0, 3.5, 'cat'),\n",
              "  Text(0, 4.5, 'deer'),\n",
              "  Text(0, 5.5, 'dog'),\n",
              "  Text(0, 6.5, 'frog'),\n",
              "  Text(0, 7.5, 'horse'),\n",
              "  Text(0, 8.5, 'ship'),\n",
              "  Text(0, 9.5, 'truck')],\n",
              " [Text(0.5, 0, 'airplane'),\n",
              "  Text(1.5, 0, 'automobile'),\n",
              "  Text(2.5, 0, 'bird'),\n",
              "  Text(3.5, 0, 'cat'),\n",
              "  Text(4.5, 0, 'deer'),\n",
              "  Text(5.5, 0, 'dog'),\n",
              "  Text(6.5, 0, 'frog'),\n",
              "  Text(7.5, 0, 'horse'),\n",
              "  Text(8.5, 0, 'ship'),\n",
              "  Text(9.5, 0, 'truck')]]"
            ]
          },
          "metadata": {},
          "execution_count": 19
        },
        {
          "output_type": "display_data",
          "data": {
            "text/plain": [
              "<Figure size 864x648 with 2 Axes>"
            ],
            "image/png": "[encoded data removed]"
          },
          "metadata": {
            "needs_background": "light"
          }
        }
      ]
    },
    {
      "cell_type": "code",
      "source": [
        "score = model.evaluate(x_train, y_train, verbose=0) \n",
        "print(f'Test loss: {score[0]} / Test accuracy: {score[1]}')"
      ],
      "metadata": {
        "id": "5vEz95Hcnlhd",
        "colab": {
          "base_uri": "https://localhost:8080/"
        },
        "outputId": "880562cd-b87a-430f-86e4-660d29f385cd"
      },
      "execution_count": null,
      "outputs": [
        {
          "output_type": "stream",
          "name": "stdout",
          "text": [
            "Test loss: 0.01590101234614849 / Test accuracy: 0.9965599775314331\n"
          ]
        }
      ]
    }
  ]
}