{
  "nbformat": 4,
  "nbformat_minor": 0,
  "metadata": {
    "colab": {
      "name": "VGG16_CIFAR_10.ipynb",
      "provenance": []
    },
    "kernelspec": {
      "name": "python3",
      "display_name": "Python 3"
    },
    "language_info": {
      "name": "python"
    },
    "accelerator": "GPU",
    "gpuClass": "standard"
  },
  "cells": [
    {
      "cell_type": "code",
      "execution_count": null,
      "metadata": {
        "id": "hm5axndxHK-v"
      },
      "outputs": [],
      "source": [
        "import matplotlib.pyplot as plt\n",
        "import seaborn as sns\n",
        "%matplotlib inline\n",
        "\n",
        "import numpy as np \n",
        "import pandas as pd "
      ]
    },
    {
      "cell_type": "code",
      "source": [
        "# from google.colab import drive\n",
        "# drive.mount('/content/drive')"
      ],
      "metadata": {
        "id": "dtmkzuHYepTl"
      },
      "execution_count": null,
      "outputs": []
    },
    {
      "cell_type": "code",
      "source": [
        "import tensorflow as tf\n",
        "from keras import Sequential\n",
        "from tensorflow.keras.utils import to_categorical\n",
        "from tensorflow.keras.optimizers import SGD,Adam\n",
        "from keras.callbacks import ReduceLROnPlateau\n",
        "from tensorflow.keras.applications import VGG16\n",
        "from tensorflow.keras.layers import Input,Flatten,Dense,BatchNormalization,Activation,Dropout,GlobalAveragePooling2D,MaxPooling2D,RandomFlip,RandomZoom,RandomRotation"
      ],
      "metadata": {
        "id": "bg8rwMk2HXNz"
      },
      "execution_count": null,
      "outputs": []
    },
    {
      "cell_type": "code",
      "source": [
        "from keras.datasets import cifar10"
      ],
      "metadata": {
        "id": "1YwUpJW3Ho0b"
      },
      "execution_count": null,
      "outputs": []
    },
    {
      "cell_type": "code",
      "source": [
        "(x_train, y_train), (x_val, y_val) = cifar10.load_data()\n",
        "\n",
        "y_train=to_categorical(y_train)\n",
        "y_val=to_categorical(y_val)\n",
        "\n",
        "print((x_train.shape, y_train.shape))\n",
        "print((x_val.shape, y_val.shape))"
      ],
      "metadata": {
        "colab": {
          "base_uri": "https://localhost:8080/"
        },
        "id": "aYB1Pe3_Hs67",
        "outputId": "7f448dbf-fdab-4ae9-e936-5438faded31c"
      },
      "execution_count": null,
      "outputs": [
        {
          "output_type": "stream",
          "name": "stdout",
          "text": [
            "Downloading data from https://www.cs.toronto.edu/~kriz/cifar-10-python.tar.gz\n",
            "170500096/170498071 [==============================] - 13s 0us/step\n",
            "170508288/170498071 [==============================] - 13s 0us/step\n",
            "((50000, 32, 32, 3), (50000, 10))\n",
            "((10000, 32, 32, 3), (10000, 10))\n"
          ]
        }
      ]
    },
    {
      "cell_type": "code",
      "source": [
        "base_model = VGG16(include_top=False, weights='imagenet', input_shape=(224,224,3), classes=y_train.shape[1])"
      ],
      "metadata": {
        "colab": {
          "base_uri": "https://localhost:8080/"
        },
        "id": "NAni9TxdHudj",
        "outputId": "a8d98448-73f2-4716-94be-d610f60273d0"
      },
      "execution_count": null,
      "outputs": [
        {
          "output_type": "stream",
          "name": "stdout",
          "text": [
            "Downloading data from https://storage.googleapis.com/tensorflow/keras-applications/vgg16/vgg16_weights_tf_dim_ordering_tf_kernels_notop.h5\n",
            "58892288/58889256 [==============================] - 0s 0us/step\n",
            "58900480/58889256 [==============================] - 0s 0us/step\n"
          ]
        }
      ]
    },
    {
      "cell_type": "code",
      "source": [
        "data_augmentation = Sequential(\n",
        "    [RandomFlip(\"horizontal\"), \n",
        "     RandomRotation(0.1),\n",
        "     RandomZoom(0.1)]\n",
        ")"
      ],
      "metadata": {
        "id": "LcQY-QkHH55r"
      },
      "execution_count": null,
      "outputs": []
    },
    {
      "cell_type": "code",
      "source": [
        "inputs = tf.keras.Input(shape=(32, 32, 3))\n",
        "x = tf.keras.layers.Lambda(lambda image: tf.image.resize(image, (224,224)))(inputs)\n",
        "x = data_augmentation(x)\n",
        "x = tf.keras.applications.xception.preprocess_input(x)\n",
        "x = base_model(x, training=False)\n",
        "x = tf.keras.layers.GlobalAveragePooling2D()(x)\n",
        "x = tf.keras.layers.Dropout(0.5)(x)\n",
        "outputs = tf.keras.layers.Dense(10, activation=('softmax'))(x)\n",
        "model = tf.keras.Model(inputs, outputs)"
      ],
      "metadata": {
        "id": "bIHnqSM3H-Mv"
      },
      "execution_count": null,
      "outputs": []
    },
    {
      "cell_type": "code",
      "source": [
        "model.summary()"
      ],
      "metadata": {
        "colab": {
          "base_uri": "https://localhost:8080/"
        },
        "id": "3QjzpE8gIIK2",
        "outputId": "1f7c15a5-82b2-4464-8950-e24cbd46415f"
      },
      "execution_count": null,
      "outputs": [
        {
          "output_type": "stream",
          "name": "stdout",
          "text": [
            "Model: \"model\"\n",
            "_________________________________________________________________\n",
            " Layer (type)                Output Shape              Param #   \n",
            "=================================================================\n",
            " input_2 (InputLayer)        [(None, 32, 32, 3)]       0         \n",
            "                                                                 \n",
            " lambda (Lambda)             (None, 224, 224, 3)       0         \n",
            "                                                                 \n",
            " sequential (Sequential)     (None, 224, 224, 3)       0         \n",
            "                                                                 \n",
            " tf.math.truediv (TFOpLambda  (None, 224, 224, 3)      0         \n",
            " )                                                               \n",
            "                                                                 \n",
            " tf.math.subtract (TFOpLambd  (None, 224, 224, 3)      0         \n",
            " a)                                                              \n",
            "                                                                 \n",
            " vgg16 (Functional)          (None, 7, 7, 512)         14714688  \n",
            "                                                                 \n",
            " global_average_pooling2d (G  (None, 512)              0         \n",
            " lobalAveragePooling2D)                                          \n",
            "                                                                 \n",
            " dropout (Dropout)           (None, 512)               0         \n",
            "                                                                 \n",
            " dense (Dense)               (None, 10)                5130      \n",
            "                                                                 \n",
            "=================================================================\n",
            "Total params: 14,719,818\n",
            "Trainable params: 14,719,818\n",
            "Non-trainable params: 0\n",
            "_________________________________________________________________\n"
          ]
        }
      ]
    },
    {
      "cell_type": "code",
      "source": [
        "def plot_history(history):\n",
        "    history_frame = pd.DataFrame(history.history)\n",
        "    history_frame.loc[:, ['loss', 'val_loss']].plot()\n",
        "    history_frame.loc[:, ['accuracy', 'val_accuracy']].plot()\n",
        "    \n",
        "    return"
      ],
      "metadata": {
        "id": "-RnY5BWUIIit"
      },
      "execution_count": null,
      "outputs": []
    },
    {
      "cell_type": "code",
      "source": [
        "base_model.trainable = True"
      ],
      "metadata": {
        "id": "HxhLJ_U-IK22"
      },
      "execution_count": null,
      "outputs": []
    },
    {
      "cell_type": "code",
      "source": [
        "model.compile(optimizer=tf.keras.optimizers.Adam(1e-5), loss='categorical_crossentropy', metrics=['accuracy'])"
      ],
      "metadata": {
        "id": "2uTOO-UQINEO"
      },
      "execution_count": null,
      "outputs": []
    },
    {
      "cell_type": "code",
      "source": [
        "epochs = 14\n",
        "history = model.fit(x_train, y_train, validation_data=(x_val, y_val), epochs=epochs, verbose=1)"
      ],
      "metadata": {
        "colab": {
          "base_uri": "https://localhost:8080/"
        },
        "id": "ZZuoK5YhIOeo",
        "outputId": "90b947fa-49b4-48b9-eb35-295c586cc3ed"
      },
      "execution_count": null,
      "outputs": [
        {
          "output_type": "stream",
          "name": "stdout",
          "text": [
            "Epoch 1/14\n",
            "1563/1563 [==============================] - 775s 483ms/step - loss: 1.1938 - accuracy: 0.5765 - val_loss: 0.6377 - val_accuracy: 0.7839\n",
            "Epoch 2/14\n",
            "1563/1563 [==============================] - 752s 481ms/step - loss: 0.6996 - accuracy: 0.7591 - val_loss: 0.4712 - val_accuracy: 0.8370\n",
            "Epoch 3/14\n",
            "1563/1563 [==============================] - 754s 483ms/step - loss: 0.5601 - accuracy: 0.8092 - val_loss: 0.4067 - val_accuracy: 0.8622\n",
            "Epoch 4/14\n",
            "1563/1563 [==============================] - 757s 484ms/step - loss: 0.4834 - accuracy: 0.8359 - val_loss: 0.3516 - val_accuracy: 0.8835\n",
            "Epoch 5/14\n",
            "1563/1563 [==============================] - 756s 484ms/step - loss: 0.4235 - accuracy: 0.8551 - val_loss: 0.3389 - val_accuracy: 0.8851\n",
            "Epoch 6/14\n",
            "1563/1563 [==============================] - 756s 484ms/step - loss: 0.3857 - accuracy: 0.8691 - val_loss: 0.2970 - val_accuracy: 0.8988\n",
            "Epoch 7/14\n",
            "1563/1563 [==============================] - 754s 482ms/step - loss: 0.3479 - accuracy: 0.8808 - val_loss: 0.2791 - val_accuracy: 0.9033\n",
            "Epoch 8/14\n",
            "1563/1563 [==============================] - 753s 482ms/step - loss: 0.3213 - accuracy: 0.8920 - val_loss: 0.2769 - val_accuracy: 0.9073\n",
            "Epoch 9/14\n",
            "1563/1563 [==============================] - 754s 483ms/step - loss: 0.2971 - accuracy: 0.8989 - val_loss: 0.2493 - val_accuracy: 0.9146\n",
            "Epoch 10/14\n",
            "1563/1563 [==============================] - 754s 482ms/step - loss: 0.2758 - accuracy: 0.9074 - val_loss: 0.2316 - val_accuracy: 0.9230\n",
            "Epoch 11/14\n",
            "1563/1563 [==============================] - 753s 482ms/step - loss: 0.2619 - accuracy: 0.9106 - val_loss: 0.2605 - val_accuracy: 0.9098\n",
            "Epoch 12/14\n",
            "1563/1563 [==============================] - 753s 482ms/step - loss: 0.2420 - accuracy: 0.9176 - val_loss: 0.2328 - val_accuracy: 0.9195\n",
            "Epoch 13/14\n",
            "1563/1563 [==============================] - 755s 483ms/step - loss: 0.2288 - accuracy: 0.9206 - val_loss: 0.2101 - val_accuracy: 0.9273\n",
            "Epoch 14/14\n",
            "1563/1563 [==============================] - 753s 482ms/step - loss: 0.2149 - accuracy: 0.9268 - val_loss: 0.2107 - val_accuracy: 0.9316\n"
          ]
        }
      ]
    },
    {
      "cell_type": "code",
      "source": [
        "plot_history(history)"
      ],
      "metadata": {
        "id": "NXleEqf8Ihjm",
        "colab": {
          "base_uri": "https://localhost:8080/",
          "height": 513
        },
        "outputId": "885713d3-5b52-4583-ca34-8734cdf471af"
      },
      "execution_count": null,
      "outputs": [
        {
          "output_type": "display_data",
          "data": {
            "text/plain": [
              "<Figure size 432x288 with 1 Axes>"
            ],
            "image/png": "[encoded data removed]"
          },
          "metadata": {
            "needs_background": "light"
          }
        },
        {
          "output_type": "display_data",
          "data": {
            "text/plain": [
              "<Figure size 432x288 with 1 Axes>"
            ],
            "image/png": "[encoded data removed]"
          },
          "metadata": {
            "needs_background": "light"
          }
        }
      ]
    },
    {
      "cell_type": "code",
      "source": [
        "score = model.evaluate(x_val, y_val, verbose=0) \n",
        "print(f'Test loss: {score[0]} / Test accuracy: {score[1]}')"
      ],
      "metadata": {
        "id": "IPx_y05Ie_PG",
        "colab": {
          "base_uri": "https://localhost:8080/"
        },
        "outputId": "69b2d500-d026-4d1c-febf-53d000d9e685"
      },
      "execution_count": null,
      "outputs": [
        {
          "output_type": "stream",
          "name": "stdout",
          "text": [
            "Test loss: 0.21069511771202087 / Test accuracy: 0.9315999746322632\n"
          ]
        }
      ]
    },
    {
      "cell_type": "code",
      "source": [
        "model.save(\"VGG16_CIFAR-10.h5\")"
      ],
      "metadata": {
        "id": "BhlVJDD9ep1k"
      },
      "execution_count": null,
      "outputs": []
    },
    {
      "cell_type": "code",
      "source": [
        "class_names=['airplane', 'automobile', 'bird', 'cat', 'deer', 'dog', 'frog', 'horse', 'ship', 'truck']\n",
        "\n",
        "predictions=model.predict(x_val)\n",
        "\n",
        "y_pred_classes = np.argmax(predictions, axis=1)\n",
        "y_true = np.argmax(y_val, axis=1)\n",
        "\n",
        "confusion_mtx = tf.math.confusion_matrix(y_true, y_pred_classes)\n",
        "\n",
        "plt.figure(figsize=(12, 9))\n",
        "c = sns.heatmap(confusion_mtx, annot=True, fmt='g')\n",
        "c.set(xticklabels=class_names, yticklabels=class_names)"
      ],
      "metadata": {
        "id": "FE_8Omqoe7pt",
        "colab": {
          "base_uri": "https://localhost:8080/",
          "height": 884
        },
        "outputId": "5aa08156-02e1-47e3-d5f3-859da5bda787"
      },
      "execution_count": null,
      "outputs": [
        {
          "output_type": "execute_result",
          "data": {
            "text/plain": [
              "[[Text(0, 0.5, 'airplane'),\n",
              "  Text(0, 1.5, 'automobile'),\n",
              "  Text(0, 2.5, 'bird'),\n",
              "  Text(0, 3.5, 'cat'),\n",
              "  Text(0, 4.5, 'deer'),\n",
              "  Text(0, 5.5, 'dog'),\n",
              "  Text(0, 6.5, 'frog'),\n",
              "  Text(0, 7.5, 'horse'),\n",
              "  Text(0, 8.5, 'ship'),\n",
              "  Text(0, 9.5, 'truck')],\n",
              " [Text(0.5, 0, 'airplane'),\n",
              "  Text(1.5, 0, 'automobile'),\n",
              "  Text(2.5, 0, 'bird'),\n",
              "  Text(3.5, 0, 'cat'),\n",
              "  Text(4.5, 0, 'deer'),\n",
              "  Text(5.5, 0, 'dog'),\n",
              "  Text(6.5, 0, 'frog'),\n",
              "  Text(7.5, 0, 'horse'),\n",
              "  Text(8.5, 0, 'ship'),\n",
              "  Text(9.5, 0, 'truck')]]"
            ]
          },
          "metadata": {},
          "execution_count": 20
        },
        {
          "output_type": "display_data",
          "data": {
            "text/plain": [
              "<Figure size 864x648 with 2 Axes>"
            ],
            "image/png": "[encoded data removed]"
          },
          "metadata": {
            "needs_background": "light"
          }
        }
      ]
    }
  ]
}